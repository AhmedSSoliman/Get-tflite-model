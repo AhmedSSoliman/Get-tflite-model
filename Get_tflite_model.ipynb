{
  "nbformat": 4,
  "nbformat_minor": 0,
  "metadata": {
    "colab": {
      "provenance": [],
      "authorship_tag": "ABX9TyP7U7L+O41CjduAnzccUHb4",
      "include_colab_link": true
    },
    "kernelspec": {
      "name": "python3",
      "display_name": "Python 3"
    },
    "language_info": {
      "name": "python"
    }
  },
  "cells": [
    {
      "cell_type": "markdown",
      "metadata": {
        "id": "view-in-github",
        "colab_type": "text"
      },
      "source": [
        "<a href=\"https://colab.research.google.com/github/AhmedSSoliman/Get-tflite-model/blob/master/Get_tflite_model.ipynb\" target=\"_parent\"><img src=\"https://colab.research.google.com/assets/colab-badge.svg\" alt=\"Open In Colab\"/></a>"
      ]
    },
    {
      "cell_type": "code",
      "source": [
        "!pip install tensorflow transformers"
      ],
      "metadata": {
        "colab": {
          "base_uri": "https://localhost:8080/"
        },
        "id": "WpnlWav_0g4X",
        "outputId": "0c2c0664-38a2-4301-8a56-10a0211d0eaa"
      },
      "execution_count": 2,
      "outputs": [
        {
          "output_type": "stream",
          "name": "stdout",
          "text": [
            "Installing collected packages: tokenizers, safetensors, huggingface-hub, transformers\n",
            "Successfully installed huggingface-hub-0.17.2 safetensors-0.3.3 tokenizers-0.13.3 transformers-4.33.2\n"
          ]
        }
      ]
    },
    {
      "cell_type": "code",
      "execution_count": 12,
      "metadata": {
        "colab": {
          "base_uri": "https://localhost:8080/"
        },
        "id": "aXiV70Zw0Rmn",
        "outputId": "3a77679a-3c17-4c41-9ef3-55aba4f397df"
      },
      "outputs": [
        {
          "output_type": "stream",
          "name": "stderr",
          "text": [
            "Some layers from the model checkpoint at google/tapas-small-finetuned-wtq were not used when initializing TFTapasForQuestionAnswering: ['dropout_506']\n",
            "- This IS expected if you are initializing TFTapasForQuestionAnswering from the checkpoint of a model trained on another task or with another architecture (e.g. initializing a BertForSequenceClassification model from a BertForPreTraining model).\n",
            "- This IS NOT expected if you are initializing TFTapasForQuestionAnswering from the checkpoint of a model that you expect to be exactly identical (initializing a BertForSequenceClassification model from a BertForSequenceClassification model).\n",
            "Some layers of TFTapasForQuestionAnswering were not initialized from the model checkpoint at google/tapas-small-finetuned-wtq and are newly initialized: ['dropout_27']\n",
            "You should probably TRAIN this model on a down-stream task to be able to use it for predictions and inference.\n"
          ]
        }
      ],
      "source": [
        "import tensorflow as tf\n",
        "from transformers import TFAutoModelForQuestionAnswering, AutoTokenizer, TFAutoModelForTableQuestionAnswering\n",
        "\n",
        "# Load the pre-trained TAPAS model\n",
        "model_name = \"google/tapas-small-finetuned-wtq\"\n",
        "model = TFAutoModelForTableQuestionAnswering.from_pretrained(model_name)\n",
        "tokenizer = AutoTokenizer.from_pretrained(model_name)\n"
      ]
    },
    {
      "cell_type": "code",
      "source": [
        "\n",
        "# Define a simple input signature for conversion to TFLite\n",
        "input_signature = [\n",
        "    tf.TensorSpec(shape=(None, None), dtype=tf.int32, name=\"input_ids\"),\n",
        "    tf.TensorSpec(shape=(None, None), dtype=tf.int32, name=\"attention_mask\"),\n",
        "]\n",
        "\n",
        "# Convert the model to TFLite format\n",
        "converter = tf.lite.TFLiteConverter.from_keras_model(model)\n",
        "converter.optimizations = [tf.lite.Optimize.DEFAULT]  # Optional optimizations\n",
        "converter.target_spec.supported_ops = [tf.lite.OpsSet.TFLITE_BUILTINS]\n",
        "converter.experimental_new_converter = True  # Required for TFLite Converter 2.0+\n",
        "\n",
        "tflite_model = converter.convert()\n"
      ],
      "metadata": {
        "id": "UIZ1ihge1i-0"
      },
      "execution_count": 13,
      "outputs": []
    },
    {
      "cell_type": "code",
      "source": [
        "\n",
        "# Save the TFLite model to a file\n",
        "with open(\"tapas_small_finetuned_wtq.tflite\", \"wb\") as f:\n",
        "    f.write(tflite_model)\n",
        "\n",
        "print(\"TFLite model conversion complete.\")"
      ],
      "metadata": {
        "colab": {
          "base_uri": "https://localhost:8080/"
        },
        "id": "GiIRYl3Y2JDW",
        "outputId": "d48e65a0-85eb-4486-95ea-44aa02b13a4f"
      },
      "execution_count": 14,
      "outputs": [
        {
          "output_type": "stream",
          "name": "stdout",
          "text": [
            "TFLite model conversion complete.\n"
          ]
        }
      ]
    }
  ]
}